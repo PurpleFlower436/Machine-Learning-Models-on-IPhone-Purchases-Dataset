{
  "nbformat": 4,
  "nbformat_minor": 0,
  "metadata": {
    "colab": {
      "provenance": []
    },
    "kernelspec": {
      "name": "python3",
      "display_name": "Python 3"
    },
    "language_info": {
      "name": "python"
    }
  },
  "cells": [
    {
      "cell_type": "code",
      "execution_count": null,
      "metadata": {
        "id": "juibR9nK2J5q"
      },
      "outputs": [],
      "source": []
    },
    {
      "cell_type": "code",
      "source": [
        "import numpy as np\n",
        "import pandas as pd\n",
        "\n",
        "from google.colab import files\n",
        "import io \n",
        " \n",
        "uploaded = files.upload()"
      ],
      "metadata": {
        "colab": {
          "base_uri": "https://localhost:8080/",
          "height": 74
        },
        "id": "tc0bYCXB2Kos",
        "outputId": "685d1ad7-1657-47da-e40e-bcd443e69665"
      },
      "execution_count": null,
      "outputs": [
        {
          "output_type": "display_data",
          "data": {
            "text/plain": [
              "<IPython.core.display.HTML object>"
            ],
            "text/html": [
              "\n",
              "     <input type=\"file\" id=\"files-44dbeb6b-a259-4315-9139-ae1dd03f0f77\" name=\"files[]\" multiple disabled\n",
              "        style=\"border:none\" />\n",
              "     <output id=\"result-44dbeb6b-a259-4315-9139-ae1dd03f0f77\">\n",
              "      Upload widget is only available when the cell has been executed in the\n",
              "      current browser session. Please rerun this cell to enable.\n",
              "      </output>\n",
              "      <script>// Copyright 2017 Google LLC\n",
              "//\n",
              "// Licensed under the Apache License, Version 2.0 (the \"License\");\n",
              "// you may not use this file except in compliance with the License.\n",
              "// You may obtain a copy of the License at\n",
              "//\n",
              "//      http://www.apache.org/licenses/LICENSE-2.0\n",
              "//\n",
              "// Unless required by applicable law or agreed to in writing, software\n",
              "// distributed under the License is distributed on an \"AS IS\" BASIS,\n",
              "// WITHOUT WARRANTIES OR CONDITIONS OF ANY KIND, either express or implied.\n",
              "// See the License for the specific language governing permissions and\n",
              "// limitations under the License.\n",
              "\n",
              "/**\n",
              " * @fileoverview Helpers for google.colab Python module.\n",
              " */\n",
              "(function(scope) {\n",
              "function span(text, styleAttributes = {}) {\n",
              "  const element = document.createElement('span');\n",
              "  element.textContent = text;\n",
              "  for (const key of Object.keys(styleAttributes)) {\n",
              "    element.style[key] = styleAttributes[key];\n",
              "  }\n",
              "  return element;\n",
              "}\n",
              "\n",
              "// Max number of bytes which will be uploaded at a time.\n",
              "const MAX_PAYLOAD_SIZE = 100 * 1024;\n",
              "\n",
              "function _uploadFiles(inputId, outputId) {\n",
              "  const steps = uploadFilesStep(inputId, outputId);\n",
              "  const outputElement = document.getElementById(outputId);\n",
              "  // Cache steps on the outputElement to make it available for the next call\n",
              "  // to uploadFilesContinue from Python.\n",
              "  outputElement.steps = steps;\n",
              "\n",
              "  return _uploadFilesContinue(outputId);\n",
              "}\n",
              "\n",
              "// This is roughly an async generator (not supported in the browser yet),\n",
              "// where there are multiple asynchronous steps and the Python side is going\n",
              "// to poll for completion of each step.\n",
              "// This uses a Promise to block the python side on completion of each step,\n",
              "// then passes the result of the previous step as the input to the next step.\n",
              "function _uploadFilesContinue(outputId) {\n",
              "  const outputElement = document.getElementById(outputId);\n",
              "  const steps = outputElement.steps;\n",
              "\n",
              "  const next = steps.next(outputElement.lastPromiseValue);\n",
              "  return Promise.resolve(next.value.promise).then((value) => {\n",
              "    // Cache the last promise value to make it available to the next\n",
              "    // step of the generator.\n",
              "    outputElement.lastPromiseValue = value;\n",
              "    return next.value.response;\n",
              "  });\n",
              "}\n",
              "\n",
              "/**\n",
              " * Generator function which is called between each async step of the upload\n",
              " * process.\n",
              " * @param {string} inputId Element ID of the input file picker element.\n",
              " * @param {string} outputId Element ID of the output display.\n",
              " * @return {!Iterable<!Object>} Iterable of next steps.\n",
              " */\n",
              "function* uploadFilesStep(inputId, outputId) {\n",
              "  const inputElement = document.getElementById(inputId);\n",
              "  inputElement.disabled = false;\n",
              "\n",
              "  const outputElement = document.getElementById(outputId);\n",
              "  outputElement.innerHTML = '';\n",
              "\n",
              "  const pickedPromise = new Promise((resolve) => {\n",
              "    inputElement.addEventListener('change', (e) => {\n",
              "      resolve(e.target.files);\n",
              "    });\n",
              "  });\n",
              "\n",
              "  const cancel = document.createElement('button');\n",
              "  inputElement.parentElement.appendChild(cancel);\n",
              "  cancel.textContent = 'Cancel upload';\n",
              "  const cancelPromise = new Promise((resolve) => {\n",
              "    cancel.onclick = () => {\n",
              "      resolve(null);\n",
              "    };\n",
              "  });\n",
              "\n",
              "  // Wait for the user to pick the files.\n",
              "  const files = yield {\n",
              "    promise: Promise.race([pickedPromise, cancelPromise]),\n",
              "    response: {\n",
              "      action: 'starting',\n",
              "    }\n",
              "  };\n",
              "\n",
              "  cancel.remove();\n",
              "\n",
              "  // Disable the input element since further picks are not allowed.\n",
              "  inputElement.disabled = true;\n",
              "\n",
              "  if (!files) {\n",
              "    return {\n",
              "      response: {\n",
              "        action: 'complete',\n",
              "      }\n",
              "    };\n",
              "  }\n",
              "\n",
              "  for (const file of files) {\n",
              "    const li = document.createElement('li');\n",
              "    li.append(span(file.name, {fontWeight: 'bold'}));\n",
              "    li.append(span(\n",
              "        `(${file.type || 'n/a'}) - ${file.size} bytes, ` +\n",
              "        `last modified: ${\n",
              "            file.lastModifiedDate ? file.lastModifiedDate.toLocaleDateString() :\n",
              "                                    'n/a'} - `));\n",
              "    const percent = span('0% done');\n",
              "    li.appendChild(percent);\n",
              "\n",
              "    outputElement.appendChild(li);\n",
              "\n",
              "    const fileDataPromise = new Promise((resolve) => {\n",
              "      const reader = new FileReader();\n",
              "      reader.onload = (e) => {\n",
              "        resolve(e.target.result);\n",
              "      };\n",
              "      reader.readAsArrayBuffer(file);\n",
              "    });\n",
              "    // Wait for the data to be ready.\n",
              "    let fileData = yield {\n",
              "      promise: fileDataPromise,\n",
              "      response: {\n",
              "        action: 'continue',\n",
              "      }\n",
              "    };\n",
              "\n",
              "    // Use a chunked sending to avoid message size limits. See b/62115660.\n",
              "    let position = 0;\n",
              "    do {\n",
              "      const length = Math.min(fileData.byteLength - position, MAX_PAYLOAD_SIZE);\n",
              "      const chunk = new Uint8Array(fileData, position, length);\n",
              "      position += length;\n",
              "\n",
              "      const base64 = btoa(String.fromCharCode.apply(null, chunk));\n",
              "      yield {\n",
              "        response: {\n",
              "          action: 'append',\n",
              "          file: file.name,\n",
              "          data: base64,\n",
              "        },\n",
              "      };\n",
              "\n",
              "      let percentDone = fileData.byteLength === 0 ?\n",
              "          100 :\n",
              "          Math.round((position / fileData.byteLength) * 100);\n",
              "      percent.textContent = `${percentDone}% done`;\n",
              "\n",
              "    } while (position < fileData.byteLength);\n",
              "  }\n",
              "\n",
              "  // All done.\n",
              "  yield {\n",
              "    response: {\n",
              "      action: 'complete',\n",
              "    }\n",
              "  };\n",
              "}\n",
              "\n",
              "scope.google = scope.google || {};\n",
              "scope.google.colab = scope.google.colab || {};\n",
              "scope.google.colab._files = {\n",
              "  _uploadFiles,\n",
              "  _uploadFilesContinue,\n",
              "};\n",
              "})(self);\n",
              "</script> "
            ]
          },
          "metadata": {}
        },
        {
          "output_type": "stream",
          "name": "stdout",
          "text": [
            "Saving iphone_purchase_records.csv to iphone_purchase_records.csv\n"
          ]
        }
      ]
    },
    {
      "cell_type": "code",
      "source": [
        "iphone_purchases = pd.read_csv(io.BytesIO(uploaded['iphone_purchase_records.csv']))\n"
      ],
      "metadata": {
        "id": "p757HU9T3ZC2"
      },
      "execution_count": null,
      "outputs": []
    },
    {
      "cell_type": "code",
      "source": [
        "iphone_purchases['Purchase Iphone'].value_counts().to_frame().T"
      ],
      "metadata": {
        "colab": {
          "base_uri": "https://localhost:8080/",
          "height": 81
        },
        "id": "hqKY_ZakcJh1",
        "outputId": "19f728f8-31ae-44d6-9671-2293c5e6feca"
      },
      "execution_count": null,
      "outputs": [
        {
          "output_type": "execute_result",
          "data": {
            "text/plain": [
              "                   0    1\n",
              "Purchase Iphone  257  143"
            ],
            "text/html": [
              "\n",
              "  <div id=\"df-85403795-f79c-4d54-8df0-ab820d6c3142\">\n",
              "    <div class=\"colab-df-container\">\n",
              "      <div>\n",
              "<style scoped>\n",
              "    .dataframe tbody tr th:only-of-type {\n",
              "        vertical-align: middle;\n",
              "    }\n",
              "\n",
              "    .dataframe tbody tr th {\n",
              "        vertical-align: top;\n",
              "    }\n",
              "\n",
              "    .dataframe thead th {\n",
              "        text-align: right;\n",
              "    }\n",
              "</style>\n",
              "<table border=\"1\" class=\"dataframe\">\n",
              "  <thead>\n",
              "    <tr style=\"text-align: right;\">\n",
              "      <th></th>\n",
              "      <th>0</th>\n",
              "      <th>1</th>\n",
              "    </tr>\n",
              "  </thead>\n",
              "  <tbody>\n",
              "    <tr>\n",
              "      <th>Purchase Iphone</th>\n",
              "      <td>257</td>\n",
              "      <td>143</td>\n",
              "    </tr>\n",
              "  </tbody>\n",
              "</table>\n",
              "</div>\n",
              "      <button class=\"colab-df-convert\" onclick=\"convertToInteractive('df-85403795-f79c-4d54-8df0-ab820d6c3142')\"\n",
              "              title=\"Convert this dataframe to an interactive table.\"\n",
              "              style=\"display:none;\">\n",
              "        \n",
              "  <svg xmlns=\"http://www.w3.org/2000/svg\" height=\"24px\"viewBox=\"0 0 24 24\"\n",
              "       width=\"24px\">\n",
              "    <path d=\"M0 0h24v24H0V0z\" fill=\"none\"/>\n",
              "    <path d=\"M18.56 5.44l.94 2.06.94-2.06 2.06-.94-2.06-.94-.94-2.06-.94 2.06-2.06.94zm-11 1L8.5 8.5l.94-2.06 2.06-.94-2.06-.94L8.5 2.5l-.94 2.06-2.06.94zm10 10l.94 2.06.94-2.06 2.06-.94-2.06-.94-.94-2.06-.94 2.06-2.06.94z\"/><path d=\"M17.41 7.96l-1.37-1.37c-.4-.4-.92-.59-1.43-.59-.52 0-1.04.2-1.43.59L10.3 9.45l-7.72 7.72c-.78.78-.78 2.05 0 2.83L4 21.41c.39.39.9.59 1.41.59.51 0 1.02-.2 1.41-.59l7.78-7.78 2.81-2.81c.8-.78.8-2.07 0-2.86zM5.41 20L4 18.59l7.72-7.72 1.47 1.35L5.41 20z\"/>\n",
              "  </svg>\n",
              "      </button>\n",
              "      \n",
              "  <style>\n",
              "    .colab-df-container {\n",
              "      display:flex;\n",
              "      flex-wrap:wrap;\n",
              "      gap: 12px;\n",
              "    }\n",
              "\n",
              "    .colab-df-convert {\n",
              "      background-color: #E8F0FE;\n",
              "      border: none;\n",
              "      border-radius: 50%;\n",
              "      cursor: pointer;\n",
              "      display: none;\n",
              "      fill: #1967D2;\n",
              "      height: 32px;\n",
              "      padding: 0 0 0 0;\n",
              "      width: 32px;\n",
              "    }\n",
              "\n",
              "    .colab-df-convert:hover {\n",
              "      background-color: #E2EBFA;\n",
              "      box-shadow: 0px 1px 2px rgba(60, 64, 67, 0.3), 0px 1px 3px 1px rgba(60, 64, 67, 0.15);\n",
              "      fill: #174EA6;\n",
              "    }\n",
              "\n",
              "    [theme=dark] .colab-df-convert {\n",
              "      background-color: #3B4455;\n",
              "      fill: #D2E3FC;\n",
              "    }\n",
              "\n",
              "    [theme=dark] .colab-df-convert:hover {\n",
              "      background-color: #434B5C;\n",
              "      box-shadow: 0px 1px 3px 1px rgba(0, 0, 0, 0.15);\n",
              "      filter: drop-shadow(0px 1px 2px rgba(0, 0, 0, 0.3));\n",
              "      fill: #FFFFFF;\n",
              "    }\n",
              "  </style>\n",
              "\n",
              "      <script>\n",
              "        const buttonEl =\n",
              "          document.querySelector('#df-85403795-f79c-4d54-8df0-ab820d6c3142 button.colab-df-convert');\n",
              "        buttonEl.style.display =\n",
              "          google.colab.kernel.accessAllowed ? 'block' : 'none';\n",
              "\n",
              "        async function convertToInteractive(key) {\n",
              "          const element = document.querySelector('#df-85403795-f79c-4d54-8df0-ab820d6c3142');\n",
              "          const dataTable =\n",
              "            await google.colab.kernel.invokeFunction('convertToInteractive',\n",
              "                                                     [key], {});\n",
              "          if (!dataTable) return;\n",
              "\n",
              "          const docLinkHtml = 'Like what you see? Visit the ' +\n",
              "            '<a target=\"_blank\" href=https://colab.research.google.com/notebooks/data_table.ipynb>data table notebook</a>'\n",
              "            + ' to learn more about interactive tables.';\n",
              "          element.innerHTML = '';\n",
              "          dataTable['output_type'] = 'display_data';\n",
              "          await google.colab.output.renderOutput(dataTable, element);\n",
              "          const docLink = document.createElement('div');\n",
              "          docLink.innerHTML = docLinkHtml;\n",
              "          element.appendChild(docLink);\n",
              "        }\n",
              "      </script>\n",
              "    </div>\n",
              "  </div>\n",
              "  "
            ]
          },
          "metadata": {},
          "execution_count": 3
        }
      ]
    },
    {
      "cell_type": "code",
      "source": [
        "iphone_purchases.shape"
      ],
      "metadata": {
        "colab": {
          "base_uri": "https://localhost:8080/"
        },
        "id": "yM40bTFKvl6y",
        "outputId": "58667501-b620-4b94-e51d-7779409592d1"
      },
      "execution_count": null,
      "outputs": [
        {
          "output_type": "execute_result",
          "data": {
            "text/plain": [
              "(400, 4)"
            ]
          },
          "metadata": {},
          "execution_count": 23
        }
      ]
    },
    {
      "cell_type": "code",
      "source": [
        "from sklearn.model_selection import train_test_split\n",
        "from sklearn.preprocessing import StandardScaler\n",
        "scaler = StandardScaler()"
      ],
      "metadata": {
        "id": "pbOqpJEH2Kq6"
      },
      "execution_count": null,
      "outputs": []
    },
    {
      "cell_type": "code",
      "source": [
        "X = iphone_purchases.drop([\"Purchase Iphone\",\"Gender\"], axis=1)\n",
        "y = iphone_purchases[\"Purchase Iphone\"]\n",
        "\n",
        "\n"
      ],
      "metadata": {
        "id": "fOkISZ22wcpq"
      },
      "execution_count": null,
      "outputs": []
    },
    {
      "cell_type": "code",
      "source": [
        "#part 1: split the dataset into train and testing\n",
        "X_train, X_test, y_train, y_test = train_test_split(X,y, train_size=0.8)\n"
      ],
      "metadata": {
        "id": "Y5d27Qgm2Ktu"
      },
      "execution_count": null,
      "outputs": []
    },
    {
      "cell_type": "code",
      "source": [
        "#part 1: standardize the x_train and x_test\n",
        "X_train_standardized = scaler.fit_transform(X_train)\n",
        "X_test_standardized = scaler.fit_transform(X_test)\n",
        "\n",
        "\n",
        "\n"
      ],
      "metadata": {
        "id": "KK1U2p_z2LsP"
      },
      "execution_count": null,
      "outputs": []
    },
    {
      "cell_type": "code",
      "source": [
        "def fold_i_of_k(dataset, i, k):\n",
        "  n = len(dataset)\n",
        "  return dataset[n*(i-1)//k:n*i//k]"
      ],
      "metadata": {
        "id": "cj0jdX_x2L3C"
      },
      "execution_count": null,
      "outputs": []
    },
    {
      "cell_type": "code",
      "source": [
        "# Our training dataset has 320 samples.  Let's create 10 folds.  Each fold with have 32 samples.\n",
        "\n",
        "\n",
        "X_train1 = X_train_standardized[:31]\n",
        "X_train2 = X_train_standardized[32:63]\n",
        "X_train3 = X_train_standardized[64:95]\n",
        "X_train4 = X_train_standardized[96:127]\n",
        "X_train5 = X_train_standardized[128:159]\n",
        "#X_train6 = X_train_standardized[160:191]\n",
        "#X_train7 = X_train_standardized[192:223]\n",
        "#X_train8 = X_train_standardized[224:255]\n",
        "#X_train9 = X_train_standardized[256:287]\n",
        "#X_train10 = X_train_standardized[288:319]\n",
        "\n",
        "\n",
        "\n",
        "\n",
        "\n",
        "y_train1 = y_train[:31]\n",
        "y_train2 = y_train[32:63]\n",
        "y_train3 = y_train[64:95]\n",
        "y_train4 = y_train[96:127]\n",
        "y_train5 = y_train[128:159]\n",
        "#y_train6 = y_train[160:191]\n",
        "#y_train7 = y_train[192:223]\n",
        "#y_train8 = y_train[224:255]\n",
        "#y_train9 = y_train[256:287]\n",
        "#y_train10 = y_train[288:319]\n",
        "\n"
      ],
      "metadata": {
        "id": "Hxbek_Wx3mLr"
      },
      "execution_count": null,
      "outputs": []
    },
    {
      "cell_type": "code",
      "source": [
        "X1 = np.concatenate([X_train1,X_train2, X_train3, X_train4]) # Keep fold 5 out and use for testing\n",
        "X2 = np.concatenate([X_train1,X_train2, X_train3, X_train5]) # Keep fold 4 out and use for testing\n",
        "X3 = np.concatenate([X_train1,X_train2, X_train4, X_train5]) # Keep fold 3 out and use for testing\n",
        "X4 = np.concatenate([X_train1,X_train3, X_train4, X_train4]) # Keep fold 2 out and use for testing\n",
        "X5 = np.concatenate([X_train2,X_train3, X_train4, X_train5]) # Keep fold 1 out and use for testing\n",
        "\n",
        "\n"
      ],
      "metadata": {
        "id": "ZHjbZ08UPTcI"
      },
      "execution_count": null,
      "outputs": []
    },
    {
      "cell_type": "code",
      "source": [
        "y1 = np.concatenate([y_train1,y_train2, y_train3, y_train4]) # Keep fold 5 out and use for testing\n",
        "y2 = np.concatenate([y_train1,y_train2, y_train3, y_train5]) # Keep fold 4 out and use for testing\n",
        "y3 = np.concatenate([y_train1,y_train2, y_train4, y_train5]) # Keep fold 3 out and use for testing\n",
        "y4 = np.concatenate([y_train1,y_train3, y_train4, y_train4]) # Keep fold 2 out and use for testing\n",
        "y5 = np.concatenate([y_train2,y_train3, y_train4, y_train5]) # Keep fold 1 out and use for testing\n",
        "\n"
      ],
      "metadata": {
        "id": "w0_48rttPj3V"
      },
      "execution_count": null,
      "outputs": []
    },
    {
      "cell_type": "code",
      "source": [
        "#use k-fold cross validation to get the accuracy for the folds\n",
        "\n",
        "from sklearn import svm\n",
        "from sklearn.metrics import confusion_matrix, accuracy_score\n",
        "\n",
        "\n",
        "svc = svm.SVC(kernel= 'linear', random_state=0, C=1.0, tol=0.001)\n",
        "svc.fit(X1,y1)\n",
        "y_predict_5 =svc.predict(X_train5)\n",
        "\n",
        "matrix5 = confusion_matrix(y_train5, y_predict_5)\n",
        "print(matrix5)\n",
        "Accuracy5 = accuracy_score(y_train5, y_predict_5)\n",
        "\n",
        "print (\"fifth fold  accuracy is %f\" %Accuracy5)\n",
        "\n",
        "\n",
        "svc.fit(X2,y2)\n",
        "y_predict_4 =svc.predict(X_train4)\n",
        "\n",
        "matrix4 = confusion_matrix(y_train4, y_predict_4)\n",
        "print(matrix4)\n",
        "Accuracy4 = accuracy_score(y_train4, y_predict_4)\n",
        "\n",
        "print (\"fourth fold  accuracy is %f\" %Accuracy4)\n",
        "\n",
        "\n",
        "svc.fit(X3,y3)\n",
        "y_predict_3 =svc.predict(X_train3)\n",
        "\n",
        "matrix3 = confusion_matrix(y_train3, y_predict_3)\n",
        "print(matrix3)\n",
        "Accuracy3 = accuracy_score(y_train3, y_predict_3)\n",
        "\n",
        "print (\"third fold  accuracy is %f\" %Accuracy3)\n",
        "\n",
        "svc.fit(X4,y4)\n",
        "y_predict_2 =svc.predict(X_train2)\n",
        "\n",
        "matrix2 = confusion_matrix(y_train2, y_predict_2)\n",
        "print(matrix2)\n",
        "Accuracy2 = accuracy_score(y_train2, y_predict_2)\n",
        "\n",
        "print (\"second fold  accuracy is %f\" %Accuracy2)\n",
        "\n",
        "svc.fit(X5,y5)\n",
        "y_predict_1 =svc.predict(X_train1)\n",
        "\n",
        "matrix1 = confusion_matrix(y_train1, y_predict_1)\n",
        "print(matrix1)\n",
        "Accuracy1 = accuracy_score(y_train1, y_predict_1)\n",
        "\n",
        "print (\"first fold  accuracy is %f\" %Accuracy1)\n",
        "\n",
        "\n",
        "\n",
        "\n",
        "\n",
        "\n",
        "\n",
        "\n",
        "\n",
        "\n",
        "\n",
        "\n",
        "\n",
        "\n",
        "\n",
        "\n",
        "\n",
        "\n",
        "\n",
        "\n",
        "\n",
        "\n",
        "\n"
      ],
      "metadata": {
        "colab": {
          "base_uri": "https://localhost:8080/"
        },
        "id": "TZ-4_Ck2PqTA",
        "outputId": "272d5f30-0f28-4cd6-9993-f1a046caf031"
      },
      "execution_count": null,
      "outputs": [
        {
          "output_type": "stream",
          "name": "stdout",
          "text": [
            "[[19  3]\n",
            " [ 2  7]]\n",
            "fifth fold  accuracy is 0.838710\n",
            "[[12  2]\n",
            " [ 8  9]]\n",
            "fourth fold  accuracy is 0.677419\n",
            "[[16  1]\n",
            " [ 6  8]]\n",
            "third fold  accuracy is 0.774194\n",
            "[[19  4]\n",
            " [ 3  5]]\n",
            "second fold  accuracy is 0.774194\n",
            "[[19  1]\n",
            " [ 5  6]]\n",
            "first fold  accuracy is 0.806452\n"
          ]
        }
      ]
    },
    {
      "cell_type": "code",
      "source": [
        "total = Accuracy1 + Accuracy2 + Accuracy3 + Accuracy4 + Accuracy5\n",
        "mean = total / 5\n",
        "print(mean)"
      ],
      "metadata": {
        "colab": {
          "base_uri": "https://localhost:8080/"
        },
        "id": "ZbaTs0uy-tUF",
        "outputId": "2322e51c-f801-4d10-a8a2-43a7287041d8"
      },
      "execution_count": null,
      "outputs": [
        {
          "output_type": "stream",
          "name": "stdout",
          "text": [
            "0.7741935483870968\n"
          ]
        }
      ]
    },
    {
      "cell_type": "code",
      "source": [
        "#part 3: implementing grid search\n",
        "from sklearn import metrics\n",
        "\n",
        "#The first value in the tuple is c value and the second is the tolerance\n",
        "parameters = [(1.53, 0.1), (0.28, 0.21),(0.45, 0.34), (0.60,0.90)]\n",
        "\n",
        "\n",
        "\n",
        "for b in range (len(parameters)):\n",
        "#print(parameters[b][0])\n",
        "  svm_grid_search = svm.SVC(kernel= 'linear', random_state=0, C=parameters[b][0], tol=parameters[b][1])\n",
        "  svm_grid_search.fit(X1 ,y1)\n",
        "  y_predict5 = svm_grid_search.predict(X_train5)\n",
        "  print(\"C parameter is %.2f and tolerance is %.2f\" %(parameters[b][0], parameters[b][1]),\"Accuracy:\",metrics.accuracy_score(y_train5, y_predict5))\n",
        "\n",
        "\n",
        "\n"
      ],
      "metadata": {
        "colab": {
          "base_uri": "https://localhost:8080/"
        },
        "id": "NNMFma4JRi2J",
        "outputId": "f93847a6-6dac-418f-e557-bbe69e6ed989"
      },
      "execution_count": null,
      "outputs": [
        {
          "output_type": "stream",
          "name": "stdout",
          "text": [
            "C parameter is 1.53 and tolerance is 0.10 Accuracy: 0.8387096774193549\n",
            "C parameter is 0.28 and tolerance is 0.21 Accuracy: 0.8387096774193549\n",
            "C parameter is 0.45 and tolerance is 0.34 Accuracy: 0.8387096774193549\n",
            "C parameter is 0.60 and tolerance is 0.90 Accuracy: 0.8709677419354839\n"
          ]
        }
      ]
    },
    {
      "cell_type": "code",
      "source": [
        "for b in range (len(parameters)):\n",
        "#print(parameters[b][0])\n",
        "  svm_grid_search = svm.SVC(kernel= 'linear', random_state=0, C=parameters[b][0], tol=parameters[b][1])\n",
        "  svm_grid_search.fit(X2 ,y2)\n",
        "  y_predict4 = svm_grid_search.predict(X_train4)\n",
        "  print(\"C parameter is %.2f and tolerance is %.2f\" %(parameters[b][0], parameters[b][1]),\"Accuracy:\",metrics.accuracy_score(y_train4, y_predict4))\n",
        "\n"
      ],
      "metadata": {
        "colab": {
          "base_uri": "https://localhost:8080/"
        },
        "id": "xHn-NpLgLiq9",
        "outputId": "fc8bbe94-ce68-49ab-ce50-3fed3f7e4e2f"
      },
      "execution_count": null,
      "outputs": [
        {
          "output_type": "stream",
          "name": "stdout",
          "text": [
            "C parameter is 1.53 and tolerance is 0.10 Accuracy: 0.6774193548387096\n",
            "C parameter is 0.28 and tolerance is 0.21 Accuracy: 0.6774193548387096\n",
            "C parameter is 0.45 and tolerance is 0.34 Accuracy: 0.6774193548387096\n",
            "C parameter is 0.60 and tolerance is 0.90 Accuracy: 0.6774193548387096\n"
          ]
        }
      ]
    },
    {
      "cell_type": "code",
      "source": [
        "for b in range (len(parameters)):\n",
        "#print(parameters[b][0])\n",
        "  svm_grid_search = svm.SVC(kernel= 'linear', random_state=0, C=parameters[b][0], tol=parameters[b][1])\n",
        "  svm_grid_search.fit(X3 ,y3)\n",
        "  y_predict3 = svm_grid_search.predict(X_train3)\n",
        "  print(\"C parameter is %.2f and tolerance is %.2f\" %(parameters[b][0], parameters[b][1]),\"Accuracy:\",metrics.accuracy_score(y_train3, y_predict3))\n",
        "\n"
      ],
      "metadata": {
        "colab": {
          "base_uri": "https://localhost:8080/"
        },
        "id": "g7ejR635M86e",
        "outputId": "7586208b-16d8-4f5c-f8d2-23c00ec6df29"
      },
      "execution_count": null,
      "outputs": [
        {
          "output_type": "stream",
          "name": "stdout",
          "text": [
            "C parameter is 1.53 and tolerance is 0.10 Accuracy: 0.7741935483870968\n",
            "C parameter is 0.28 and tolerance is 0.21 Accuracy: 0.7096774193548387\n",
            "C parameter is 0.45 and tolerance is 0.34 Accuracy: 0.8064516129032258\n",
            "C parameter is 0.60 and tolerance is 0.90 Accuracy: 0.7096774193548387\n"
          ]
        }
      ]
    },
    {
      "cell_type": "code",
      "source": [
        "for b in range (len(parameters)):\n",
        "#print(parameters[b][0])\n",
        "  svm_grid_search = svm.SVC(kernel= 'linear', random_state=0, C=parameters[b][0], tol=parameters[b][1])\n",
        "  svm_grid_search.fit(X2 ,y2)\n",
        "  y_predict2 = svm_grid_search.predict(X_train2)\n",
        "  print(\"C parameter is %.2f and tolerance is %.2f\" %(parameters[b][0], parameters[b][1]),\"Accuracy:\",metrics.accuracy_score(y_train2, y_predict2))\n",
        "\n"
      ],
      "metadata": {
        "colab": {
          "base_uri": "https://localhost:8080/"
        },
        "id": "7aIYj0DlM9gM",
        "outputId": "d9214b07-41f7-41fe-d9c1-98f6cf6a5377"
      },
      "execution_count": null,
      "outputs": [
        {
          "output_type": "stream",
          "name": "stdout",
          "text": [
            "C parameter is 1.53 and tolerance is 0.10 Accuracy: 0.8064516129032258\n",
            "C parameter is 0.28 and tolerance is 0.21 Accuracy: 0.8064516129032258\n",
            "C parameter is 0.45 and tolerance is 0.34 Accuracy: 0.8387096774193549\n",
            "C parameter is 0.60 and tolerance is 0.90 Accuracy: 0.8064516129032258\n"
          ]
        }
      ]
    },
    {
      "cell_type": "code",
      "source": [
        "for b in range (len(parameters)):\n",
        "#print(parameters[b][0])\n",
        "  svm_grid_search = svm.SVC(kernel= 'linear', random_state=0, C=parameters[b][0], tol=parameters[b][1])\n",
        "  svm_grid_search.fit(X1 ,y1)\n",
        "  y_predict1 = svm_grid_search.predict(X_train1)\n",
        "  print(\"C parameter is %.2f and tolerance is %.2f\" %(parameters[b][0], parameters[b][1]),\"Accuracy:\",metrics.accuracy_score(y_train1, y_predict1))\n",
        "\n"
      ],
      "metadata": {
        "colab": {
          "base_uri": "https://localhost:8080/"
        },
        "id": "Ea90HLvpNq82",
        "outputId": "67fa683d-27a7-4278-b2ea-d4b4b312b097"
      },
      "execution_count": null,
      "outputs": [
        {
          "output_type": "stream",
          "name": "stdout",
          "text": [
            "C parameter is 1.53 and tolerance is 0.10 Accuracy: 0.8387096774193549\n",
            "C parameter is 0.28 and tolerance is 0.21 Accuracy: 0.8387096774193549\n",
            "C parameter is 0.45 and tolerance is 0.34 Accuracy: 0.8387096774193549\n",
            "C parameter is 0.60 and tolerance is 0.90 Accuracy: 0.8064516129032258\n"
          ]
        }
      ]
    },
    {
      "cell_type": "code",
      "source": [
        "#part 4: evaluating the best model and reporting the performance \n",
        "\n",
        "#here we use svm with 0.60 for the c value and 0.90 for the tolerance \n",
        "\n",
        "\n",
        "svm_grid_search = svm.SVC(kernel= 'linear', random_state=0, C=0.60, tol=0.90)\n",
        "svm_grid_search.fit(X_train_standardized ,y_train)\n",
        "y_prediction = svm_grid_search.predict(X_test_standardized)\n",
        "print(\"Accuracy:\",metrics.accuracy_score(y_test, y_prediction))\n",
        "\n",
        "\n",
        "\n",
        "\n",
        "\n",
        "\n",
        "\n",
        "\n",
        "\n",
        "\n",
        "\n",
        "\n",
        "\n",
        "\n",
        "\n",
        "\n",
        "\n",
        "\n",
        "\n",
        "\n",
        "\n",
        "\n",
        "\n"
      ],
      "metadata": {
        "id": "HuwY19zS3yVk",
        "colab": {
          "base_uri": "https://localhost:8080/"
        },
        "outputId": "b3c88a84-1ed7-45aa-a457-14e3e99c65b0"
      },
      "execution_count": null,
      "outputs": [
        {
          "output_type": "stream",
          "name": "stdout",
          "text": [
            "Accuracy: 0.7875\n"
          ]
        }
      ]
    },
    {
      "cell_type": "code",
      "source": [],
      "metadata": {
        "id": "trxTf9HOP799"
      },
      "execution_count": null,
      "outputs": []
    }
  ]
}